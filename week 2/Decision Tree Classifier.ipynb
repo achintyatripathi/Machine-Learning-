{
 "cells": [
  {
   "cell_type": "code",
   "execution_count": 3,
   "metadata": {},
   "outputs": [],
   "source": [
    "import matplotlib.pyplot as plt\n",
    "import numpy as np\n",
    "import pandas as pd \n",
    "from sklearn.tree import DecisionTreeClassifier"
   ]
  },
  {
   "cell_type": "code",
   "execution_count": 5,
   "metadata": {},
   "outputs": [
    {
     "data": {
      "text/html": [
       "<div>\n",
       "<style scoped>\n",
       "    .dataframe tbody tr th:only-of-type {\n",
       "        vertical-align: middle;\n",
       "    }\n",
       "\n",
       "    .dataframe tbody tr th {\n",
       "        vertical-align: top;\n",
       "    }\n",
       "\n",
       "    .dataframe thead th {\n",
       "        text-align: right;\n",
       "    }\n",
       "</style>\n",
       "<table border=\"1\" class=\"dataframe\">\n",
       "  <thead>\n",
       "    <tr style=\"text-align: right;\">\n",
       "      <th></th>\n",
       "      <th>Age</th>\n",
       "      <th>Sex</th>\n",
       "      <th>BP</th>\n",
       "      <th>Cholesterol</th>\n",
       "      <th>Na_to_K</th>\n",
       "      <th>Drug</th>\n",
       "    </tr>\n",
       "  </thead>\n",
       "  <tbody>\n",
       "    <tr>\n",
       "      <th>0</th>\n",
       "      <td>23</td>\n",
       "      <td>F</td>\n",
       "      <td>HIGH</td>\n",
       "      <td>HIGH</td>\n",
       "      <td>25.355</td>\n",
       "      <td>drugY</td>\n",
       "    </tr>\n",
       "    <tr>\n",
       "      <th>1</th>\n",
       "      <td>47</td>\n",
       "      <td>M</td>\n",
       "      <td>LOW</td>\n",
       "      <td>HIGH</td>\n",
       "      <td>13.093</td>\n",
       "      <td>drugC</td>\n",
       "    </tr>\n",
       "    <tr>\n",
       "      <th>2</th>\n",
       "      <td>47</td>\n",
       "      <td>M</td>\n",
       "      <td>LOW</td>\n",
       "      <td>HIGH</td>\n",
       "      <td>10.114</td>\n",
       "      <td>drugC</td>\n",
       "    </tr>\n",
       "    <tr>\n",
       "      <th>3</th>\n",
       "      <td>28</td>\n",
       "      <td>F</td>\n",
       "      <td>NORMAL</td>\n",
       "      <td>HIGH</td>\n",
       "      <td>7.798</td>\n",
       "      <td>drugX</td>\n",
       "    </tr>\n",
       "    <tr>\n",
       "      <th>4</th>\n",
       "      <td>61</td>\n",
       "      <td>F</td>\n",
       "      <td>LOW</td>\n",
       "      <td>HIGH</td>\n",
       "      <td>18.043</td>\n",
       "      <td>drugY</td>\n",
       "    </tr>\n",
       "  </tbody>\n",
       "</table>\n",
       "</div>"
      ],
      "text/plain": [
       "   Age Sex      BP Cholesterol  Na_to_K   Drug\n",
       "0   23   F    HIGH        HIGH   25.355  drugY\n",
       "1   47   M     LOW        HIGH   13.093  drugC\n",
       "2   47   M     LOW        HIGH   10.114  drugC\n",
       "3   28   F  NORMAL        HIGH    7.798  drugX\n",
       "4   61   F     LOW        HIGH   18.043  drugY"
      ]
     },
     "execution_count": 5,
     "metadata": {},
     "output_type": "execute_result"
    }
   ],
   "source": [
    "df = pd.read_csv(\"drug200.csv\",delimiter=\",\")\n",
    "\n",
    "df.head()"
   ]
  },
  {
   "cell_type": "code",
   "execution_count": 8,
   "metadata": {},
   "outputs": [
    {
     "data": {
      "text/plain": [
       "array([[23, 'F', 'HIGH', 'HIGH', 25.355],\n",
       "       [47, 'M', 'LOW', 'HIGH', 13.093],\n",
       "       [47, 'M', 'LOW', 'HIGH', 10.113999999999999],\n",
       "       [28, 'F', 'NORMAL', 'HIGH', 7.797999999999999],\n",
       "       [61, 'F', 'LOW', 'HIGH', 18.043]], dtype=object)"
      ]
     },
     "execution_count": 8,
     "metadata": {},
     "output_type": "execute_result"
    }
   ],
   "source": [
    "X = df[['Age', 'Sex', 'BP', 'Cholesterol', 'Na_to_K']].values\n",
    "X[0:5]"
   ]
  },
  {
   "cell_type": "code",
   "execution_count": 20,
   "metadata": {},
   "outputs": [
    {
     "data": {
      "text/plain": [
       "array([['drugY'],\n",
       "       ['drugC'],\n",
       "       ['drugC'],\n",
       "       ['drugX'],\n",
       "       ['drugY'],\n",
       "       ['drugX'],\n",
       "       ['drugY'],\n",
       "       ['drugC'],\n",
       "       ['drugY'],\n",
       "       ['drugY'],\n",
       "       ['drugC'],\n",
       "       ['drugY'],\n",
       "       ['drugY'],\n",
       "       ['drugY'],\n",
       "       ['drugX'],\n",
       "       ['drugY'],\n",
       "       ['drugX'],\n",
       "       ['drugA'],\n",
       "       ['drugC'],\n",
       "       ['drugY'],\n",
       "       ['drugY'],\n",
       "       ['drugY'],\n",
       "       ['drugY'],\n",
       "       ['drugY'],\n",
       "       ['drugY'],\n",
       "       ['drugY'],\n",
       "       ['drugY'],\n",
       "       ['drugX'],\n",
       "       ['drugY'],\n",
       "       ['drugY'],\n",
       "       ['drugX'],\n",
       "       ['drugB'],\n",
       "       ['drugX'],\n",
       "       ['drugY'],\n",
       "       ['drugX'],\n",
       "       ['drugX'],\n",
       "       ['drugA'],\n",
       "       ['drugX'],\n",
       "       ['drugX'],\n",
       "       ['drugX'],\n",
       "       ['drugY'],\n",
       "       ['drugB'],\n",
       "       ['drugY'],\n",
       "       ['drugX'],\n",
       "       ['drugX'],\n",
       "       ['drugX'],\n",
       "       ['drugA'],\n",
       "       ['drugC'],\n",
       "       ['drugY'],\n",
       "       ['drugY'],\n",
       "       ['drugY'],\n",
       "       ['drugX'],\n",
       "       ['drugY'],\n",
       "       ['drugY'],\n",
       "       ['drugB'],\n",
       "       ['drugC'],\n",
       "       ['drugB'],\n",
       "       ['drugY'],\n",
       "       ['drugX'],\n",
       "       ['drugY'],\n",
       "       ['drugY'],\n",
       "       ['drugA'],\n",
       "       ['drugY'],\n",
       "       ['drugX'],\n",
       "       ['drugB'],\n",
       "       ['drugY'],\n",
       "       ['drugA'],\n",
       "       ['drugX'],\n",
       "       ['drugY'],\n",
       "       ['drugY'],\n",
       "       ['drugB'],\n",
       "       ['drugY'],\n",
       "       ['drugX'],\n",
       "       ['drugY'],\n",
       "       ['drugY'],\n",
       "       ['drugY'],\n",
       "       ['drugA'],\n",
       "       ['drugY'],\n",
       "       ['drugA'],\n",
       "       ['drugX'],\n",
       "       ['drugB'],\n",
       "       ['drugX'],\n",
       "       ['drugC'],\n",
       "       ['drugA'],\n",
       "       ['drugC'],\n",
       "       ['drugB'],\n",
       "       ['drugX'],\n",
       "       ['drugY'],\n",
       "       ['drugY'],\n",
       "       ['drugY'],\n",
       "       ['drugY'],\n",
       "       ['drugY'],\n",
       "       ['drugY'],\n",
       "       ['drugY'],\n",
       "       ['drugY'],\n",
       "       ['drugX'],\n",
       "       ['drugY'],\n",
       "       ['drugY'],\n",
       "       ['drugY'],\n",
       "       ['drugY'],\n",
       "       ['drugA'],\n",
       "       ['drugA'],\n",
       "       ['drugC'],\n",
       "       ['drugX'],\n",
       "       ['drugY'],\n",
       "       ['drugX'],\n",
       "       ['drugX'],\n",
       "       ['drugY'],\n",
       "       ['drugB'],\n",
       "       ['drugY'],\n",
       "       ['drugA'],\n",
       "       ['drugX'],\n",
       "       ['drugX'],\n",
       "       ['drugX'],\n",
       "       ['drugX'],\n",
       "       ['drugY'],\n",
       "       ['drugX'],\n",
       "       ['drugX'],\n",
       "       ['drugA'],\n",
       "       ['drugY'],\n",
       "       ['drugY'],\n",
       "       ['drugY'],\n",
       "       ['drugY'],\n",
       "       ['drugY'],\n",
       "       ['drugB'],\n",
       "       ['drugY'],\n",
       "       ['drugY'],\n",
       "       ['drugX'],\n",
       "       ['drugY'],\n",
       "       ['drugX'],\n",
       "       ['drugY'],\n",
       "       ['drugY'],\n",
       "       ['drugX'],\n",
       "       ['drugY'],\n",
       "       ['drugY'],\n",
       "       ['drugX'],\n",
       "       ['drugB'],\n",
       "       ['drugA'],\n",
       "       ['drugB'],\n",
       "       ['drugX'],\n",
       "       ['drugA'],\n",
       "       ['drugY'],\n",
       "       ['drugB'],\n",
       "       ['drugY'],\n",
       "       ['drugA'],\n",
       "       ['drugX'],\n",
       "       ['drugX'],\n",
       "       ['drugA'],\n",
       "       ['drugX'],\n",
       "       ['drugC'],\n",
       "       ['drugA'],\n",
       "       ['drugB'],\n",
       "       ['drugX'],\n",
       "       ['drugX'],\n",
       "       ['drugY'],\n",
       "       ['drugC'],\n",
       "       ['drugA'],\n",
       "       ['drugY'],\n",
       "       ['drugC'],\n",
       "       ['drugX'],\n",
       "       ['drugX'],\n",
       "       ['drugB'],\n",
       "       ['drugX'],\n",
       "       ['drugY'],\n",
       "       ['drugY'],\n",
       "       ['drugY'],\n",
       "       ['drugY'],\n",
       "       ['drugX'],\n",
       "       ['drugY'],\n",
       "       ['drugA'],\n",
       "       ['drugX'],\n",
       "       ['drugX'],\n",
       "       ['drugY'],\n",
       "       ['drugY'],\n",
       "       ['drugA'],\n",
       "       ['drugY'],\n",
       "       ['drugA'],\n",
       "       ['drugY'],\n",
       "       ['drugY'],\n",
       "       ['drugY'],\n",
       "       ['drugY'],\n",
       "       ['drugX'],\n",
       "       ['drugX'],\n",
       "       ['drugY'],\n",
       "       ['drugY'],\n",
       "       ['drugY'],\n",
       "       ['drugB'],\n",
       "       ['drugA'],\n",
       "       ['drugY'],\n",
       "       ['drugY'],\n",
       "       ['drugY'],\n",
       "       ['drugA'],\n",
       "       ['drugY'],\n",
       "       ['drugC'],\n",
       "       ['drugY'],\n",
       "       ['drugC'],\n",
       "       ['drugC'],\n",
       "       ['drugX'],\n",
       "       ['drugX'],\n",
       "       ['drugX']], dtype=object)"
      ]
     },
     "execution_count": 20,
     "metadata": {},
     "output_type": "execute_result"
    }
   ],
   "source": [
    "Y = df[['Drug']].values\n",
    "Y"
   ]
  },
  {
   "cell_type": "markdown",
   "metadata": {},
   "source": [
    "Sex,BP,Cholesterol needs to be preprocessed as the tree can't take character variables for calculating entropy and information gain"
   ]
  },
  {
   "cell_type": "code",
   "execution_count": 6,
   "metadata": {},
   "outputs": [],
   "source": [
    "from sklearn import preprocessing"
   ]
  },
  {
   "cell_type": "code",
   "execution_count": 10,
   "metadata": {},
   "outputs": [],
   "source": [
    "le_sex = preprocessing.LabelEncoder()\n",
    "le_sex.fit(['F','M'])\n",
    "X[:,1] = le_sex.transform(X[:,1])"
   ]
  },
  {
   "cell_type": "code",
   "execution_count": 11,
   "metadata": {},
   "outputs": [],
   "source": [
    "le_bp = preprocessing.LabelEncoder()\n",
    "le_bp.fit(['LOW', 'HIGH','NORMAL'])\n",
    "X[:,2] = le_bp.transform(X[:,2])\n",
    "\n",
    "le_ch = preprocessing.LabelEncoder()\n",
    "le_ch.fit(['HIGH','NORMAL'])\n",
    "X[:,3] = le_ch.transform(X[:,3])"
   ]
  },
  {
   "cell_type": "code",
   "execution_count": 13,
   "metadata": {},
   "outputs": [
    {
     "data": {
      "text/plain": [
       "array([[23, 0, 0, 0, 25.355],\n",
       "       [47, 1, 1, 0, 13.093],\n",
       "       [47, 1, 1, 0, 10.113999999999999],\n",
       "       [28, 0, 2, 0, 7.797999999999999],\n",
       "       [61, 0, 1, 0, 18.043]], dtype=object)"
      ]
     },
     "execution_count": 13,
     "metadata": {},
     "output_type": "execute_result"
    }
   ],
   "source": [
    "X[:5]"
   ]
  },
  {
   "cell_type": "code",
   "execution_count": 23,
   "metadata": {},
   "outputs": [
    {
     "data": {
      "text/plain": [
       "DecisionTreeClassifier(class_weight=None, criterion='entropy', max_depth=4,\n",
       "                       max_features=None, max_leaf_nodes=None,\n",
       "                       min_impurity_decrease=0.0, min_impurity_split=None,\n",
       "                       min_samples_leaf=1, min_samples_split=2,\n",
       "                       min_weight_fraction_leaf=0.0, presort=False,\n",
       "                       random_state=None, splitter='best')"
      ]
     },
     "execution_count": 23,
     "metadata": {},
     "output_type": "execute_result"
    }
   ],
   "source": [
    "drugtree = DecisionTreeClassifier(criterion='entropy',max_depth=4)\n",
    "drugtree"
   ]
  },
  {
   "cell_type": "code",
   "execution_count": 24,
   "metadata": {},
   "outputs": [],
   "source": [
    "from sklearn.model_selection import train_test_split\n",
    "from sklearn import metrics"
   ]
  },
  {
   "cell_type": "code",
   "execution_count": 25,
   "metadata": {},
   "outputs": [],
   "source": [
    "train_x,test_x,train_y,test_y = train_test_split(X,Y,test_size=0.2)"
   ]
  },
  {
   "cell_type": "code",
   "execution_count": 26,
   "metadata": {},
   "outputs": [],
   "source": [
    "drugtree.fit(train_x,train_y)\n",
    "yhat = drugtree.predict(test_x)"
   ]
  },
  {
   "cell_type": "code",
   "execution_count": 28,
   "metadata": {},
   "outputs": [
    {
     "name": "stdout",
     "output_type": "stream",
     "text": [
      "0.975\n"
     ]
    }
   ],
   "source": [
    "print(metrics.accuracy_score(yhat,test_y))"
   ]
  }
 ],
 "metadata": {
  "kernelspec": {
   "display_name": "Python 3",
   "language": "python",
   "name": "python3"
  },
  "language_info": {
   "codemirror_mode": {
    "name": "ipython",
    "version": 3
   },
   "file_extension": ".py",
   "mimetype": "text/x-python",
   "name": "python",
   "nbconvert_exporter": "python",
   "pygments_lexer": "ipython3",
   "version": "3.6.8"
  }
 },
 "nbformat": 4,
 "nbformat_minor": 2
}
